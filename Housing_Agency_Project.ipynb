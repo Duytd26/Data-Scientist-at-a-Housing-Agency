{
 "cells": [
  {
   "cell_type": "markdown",
   "id": "b88ac27d",
   "metadata": {},
   "source": [
    "# Housing Agency Data Science Project\n",
    "\n",
    "This project analyzes housing data to identify key factors affecting house prices and build a predictive model."
   ]
  },
  {
   "cell_type": "code",
   "execution_count": null,
   "id": "79eca273",
   "metadata": {},
   "outputs": [],
   "source": [
    "import pandas as pd\n",
    "import numpy as np\n",
    "import matplotlib.pyplot as plt\n",
    "import seaborn as sns\n",
    "\n",
    "from sklearn.model_selection import train_test_split\n",
    "from sklearn.linear_model import LinearRegression\n",
    "from sklearn.metrics import mean_squared_error, r2_score\n"
   ]
  },
  {
   "cell_type": "markdown",
   "id": "f8a320e3",
   "metadata": {},
   "source": [
    "## Data Collection\n",
    "For this project, we will use a sample housing dataset."
   ]
  },
  {
   "cell_type": "code",
   "execution_count": null,
   "id": "1e150eeb",
   "metadata": {},
   "outputs": [],
   "source": [
    "# Tạo dataset giả lập (vì không có file sẵn)\n",
    "data = {\n",
    "    'Area': [750, 800, 850, 900, 950, 1000, 1100, 1200, 1500, 2000],\n",
    "    'Bedrooms': [1, 2, 2, 3, 3, 3, 4, 4, 5, 6],\n",
    "    'Age': [10, 15, 20, 5, 8, 12, 7, 3, 2, 1],\n",
    "    'Price': [150000, 160000, 170000, 200000, 220000, 240000, 280000, 320000, 400000, 600000]\n",
    "}\n",
    "df = pd.DataFrame(data)\n",
    "df.head()\n"
   ]
  },
  {
   "cell_type": "markdown",
   "id": "62165739",
   "metadata": {},
   "source": [
    "## Data Wrangling\n",
    "Check for missing values and data types."
   ]
  },
  {
   "cell_type": "code",
   "execution_count": null,
   "id": "0402afc5",
   "metadata": {},
   "outputs": [],
   "source": [
    "df.info()\n",
    "df.isnull().sum()\n"
   ]
  },
  {
   "cell_type": "markdown",
   "id": "2c20360e",
   "metadata": {},
   "source": [
    "## Exploratory Data Analysis (EDA)\n",
    "We will visualize relationships between features and price."
   ]
  },
  {
   "cell_type": "code",
   "execution_count": null,
   "id": "0df54c3b",
   "metadata": {},
   "outputs": [],
   "source": [
    "sns.pairplot(df)\n",
    "plt.show()\n"
   ]
  },
  {
   "cell_type": "code",
   "execution_count": null,
   "id": "12d8a3ef",
   "metadata": {},
   "outputs": [],
   "source": [
    "plt.figure(figsize=(6,4))\n",
    "sns.heatmap(df.corr(), annot=True, cmap='coolwarm')\n",
    "plt.show()\n"
   ]
  },
  {
   "cell_type": "markdown",
   "id": "a8cb4262",
   "metadata": {},
   "source": [
    "## Model Development\n",
    "We will build a Linear Regression model to predict house prices."
   ]
  },
  {
   "cell_type": "code",
   "execution_count": null,
   "id": "3a83b6a6",
   "metadata": {},
   "outputs": [],
   "source": [
    "X = df[['Area', 'Bedrooms', 'Age']]\n",
    "y = df['Price']\n",
    "\n",
    "X_train, X_test, y_train, y_test = train_test_split(X, y, test_size=0.2, random_state=42)\n",
    "\n",
    "model = LinearRegression()\n",
    "model.fit(X_train, y_train)\n",
    "\n",
    "y_pred = model.predict(X_test)\n"
   ]
  },
  {
   "cell_type": "markdown",
   "id": "8e339b1f",
   "metadata": {},
   "source": [
    "## Evaluation"
   ]
  },
  {
   "cell_type": "code",
   "execution_count": null,
   "id": "6105a56c",
   "metadata": {},
   "outputs": [],
   "source": [
    "mse = mean_squared_error(y_test, y_pred)\n",
    "r2 = r2_score(y_test, y_pred)\n",
    "\n",
    "print(\"Mean Squared Error:\", mse)\n",
    "print(\"R² Score:\", r2)\n"
   ]
  },
  {
   "cell_type": "markdown",
   "id": "ae69bb1f",
   "metadata": {},
   "source": [
    "## Conclusion\n",
    "The model provides insights into how area, number of bedrooms, and age affect house prices. You can improve this project by using a larger dataset and trying advanced models."
   ]
  }
 ],
 "metadata": {},
 "nbformat": 4,
 "nbformat_minor": 5
}
